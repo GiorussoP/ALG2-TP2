{
 "cells": [
  {
   "cell_type": "code",
   "execution_count": 1,
   "id": "2122f9f0",
   "metadata": {},
   "outputs": [
    {
     "name": "stdout",
     "output_type": "stream",
     "text": [
      "✓ Arquivo gerado: knapPI_14_200_1000_1_items.txt\n",
      "✓ Arquivo gerado: knapPI_1_500_1000_1_items.txt\n",
      "✓ Arquivo gerado: knapPI_2_500_1000_1_items.txt\n",
      "✓ Arquivo gerado: knapPI_3_500_1000_1_items.txt\n"
     ]
    }
   ],
   "source": [
    "#normalizar os arquivos de teste\n",
    "\n",
    "import pandas as pd\n",
    "import os\n",
    "\n",
    "raiz = \"large_scale\"\n",
    "\n",
    "meta = \"large_scale_trated\"\n",
    "\n",
    "\n",
    "all_files = sorted([os.path.join(root, f) for root, _, files in os.walk(raiz) for f in files])\n",
    "for i in range(0, len(all_files),2):\n",
    "    info_file = all_files[i]\n",
    "    items_file = all_files[i+1]\n",
    "\n",
    "    info_df = pd.read_csv(info_file, header=None)\n",
    "    for index, row in info_df.iterrows():\n",
    "        if row[0] == 'n':\n",
    "            n = int(row[1])\n",
    "        elif row[0] == 'c':\n",
    "            W = int(row[1])\n",
    "\n",
    "    # Processa o arquivo items correspondente\n",
    "    items_df = pd.read_csv(items_file)[[' price', ' weight']]\n",
    "        \n",
    "    # Adiciona n e W como primeira linha\n",
    "    modified_df = pd.concat([\n",
    "        pd.DataFrame([[n, W]], columns=items_df.columns),\n",
    "        items_df\n",
    "    ], ignore_index=True)\n",
    "\n",
    "    base_name = os.path.basename(items_file).split('.')[0]  # Remove extensão\n",
    "    output_file = os.path.join(meta, f\"{base_name}.txt\")\n",
    "        \n",
    "        # Salva como TXT com espaços\n",
    "    with open(output_file, 'w') as f:\n",
    "        for _, row in modified_df.iterrows():\n",
    "            f.write(f\"{int(row[0])} {int(row[1])}\\n\")\n",
    "    \n",
    "    print(f\"✓ Arquivo gerado: {os.path.basename(output_file)}\")"
   ]
  }
 ],
 "metadata": {
  "kernelspec": {
   "display_name": "Python 3",
   "language": "python",
   "name": "python3"
  },
  "language_info": {
   "codemirror_mode": {
    "name": "ipython",
    "version": 3
   },
   "file_extension": ".py",
   "mimetype": "text/x-python",
   "name": "python",
   "nbconvert_exporter": "python",
   "pygments_lexer": "ipython3",
   "version": "3.8.10"
  }
 },
 "nbformat": 4,
 "nbformat_minor": 5
}
